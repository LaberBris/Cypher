{
 "cells": [
  {
   "cell_type": "code",
   "execution_count": 7,
   "id": "initial_id",
   "metadata": {
    "collapsed": true,
    "ExecuteTime": {
     "end_time": "2023-10-11T07:13:19.189605700Z",
     "start_time": "2023-10-11T07:13:19.179932100Z"
    }
   },
   "outputs": [
    {
     "name": "stderr",
     "output_type": "stream",
     "text": [
      "C:\\Users\\11946\\AppData\\Local\\Temp\\ipykernel_25920\\1091825481.py:9: DeprecationWarning: The binary mode of fromstring is deprecated, as it behaves surprisingly on unicode inputs. Use frombuffer instead\n",
      "  ascii = np.fromstring(readfile('lab2-Plaintext.txt'), dtype=np.uint8)\n"
     ]
    },
    {
     "data": {
      "text/plain": "array([ 50,  48,  48,  50,  32,  65,  46,  77,  46,  32,  84,  85,  82,\n        73,  78,  71,  32,  65,  87,  65,  82,  68,  46,  32,  82,  83,\n        65,  44,  32,  97, 110,  32,  97,  99, 114, 111, 110, 121, 109,\n        32, 102, 111, 114,  32,  82, 105, 118, 101, 115, 116,  44,  32,\n        83, 104,  97, 109, 105, 114,  32,  97, 110, 100,  32,  65, 100,\n       108, 101, 109,  97, 110,  44,  32, 117, 115, 101, 115,  32,  97,\n       108, 103, 111, 114, 105, 116, 104, 109, 105,  99,  32, 110, 117,\n       109,  98, 101, 114,  32, 116, 104, 101, 111, 114, 121,  32, 116,\n       111,  32, 112, 114, 111, 118, 105, 100, 101,  32,  97, 110,  32,\n       101, 102, 102, 105,  99, 105, 101, 110, 116,  32, 114, 101,  97,\n       108, 105, 122,  97, 116, 105, 111, 110,  32, 111, 102,  32,  97,\n        32, 112, 117,  98, 108, 105,  99,  45, 107, 101, 121,  32,  99,\n       114, 121, 112, 116, 111, 115, 121, 115, 116, 101, 109,  44,  32,\n        97,  32,  99, 111, 110,  99, 101, 112, 116,  32, 102, 105, 114,\n       115, 116,  32, 101, 110, 118, 105, 115, 105, 111, 110, 101, 100,\n        32, 116, 104, 101, 111, 114, 101, 116, 105,  99,  97, 108, 108,\n       121,  32,  98, 121,  32,  87, 104, 105, 116, 102, 105, 101, 108,\n       100,  32,  68, 105, 102, 102, 105, 101,  44,  32,  77,  97, 114,\n       116, 105, 110,  32,  72, 101, 108, 108, 109,  97, 110,  32,  97,\n       110, 100,  32,  82,  97, 108, 112, 104,  32,  77, 101, 114, 107,\n       108, 101,  46,  32,  82,  83,  65,  32, 105, 115,  32, 110, 111,\n       119,  32, 116, 104, 101,  32, 109, 111, 115, 116,  32, 119, 105,\n       100, 101, 108, 121,  32, 117, 115, 101, 100,  32, 101, 110,  99,\n       114, 121, 112, 116, 105, 111, 110,  32, 109, 101, 116, 104, 111,\n       100,  44,  32, 119, 105, 116, 104,  32,  97, 112, 112, 108, 105,\n        99,  97, 116, 105, 111, 110, 115,  32, 116, 104, 114, 111, 117,\n       103, 104, 111, 117, 116,  32, 116, 104, 101,  32,  73, 110, 116,\n       101, 114, 110, 101, 116,  32, 116, 111,  32, 115, 101,  99, 117,\n       114, 101,  32, 111, 110,  45, 108, 105, 110, 101,  32, 116, 114,\n        97, 110, 115,  97,  99, 116, 105, 111, 110, 115,  46,  32,  73,\n       116,  32, 104,  97, 115,  32,  97, 108, 115, 111,  32, 105, 110,\n       115, 112, 105, 114, 101, 100,  32,  98, 114, 101,  97, 107, 116,\n       104, 114, 111, 117, 103, 104,  32, 119, 111, 114, 107,  32, 105,\n       110,  32,  98, 111, 116, 104,  32, 116, 104, 101, 111, 114, 101,\n       116, 105,  99,  97, 108,  32,  99, 111, 109, 112, 117, 116, 101,\n       114,  32, 115,  99, 105, 101, 110,  99, 101,  32,  97, 110, 100,\n        32, 109,  97, 116, 104, 101, 109,  97, 116, 105,  99, 115,  46],\n      dtype=uint8)"
     },
     "execution_count": 7,
     "metadata": {},
     "output_type": "execute_result"
    }
   ],
   "source": [
    "import numpy as np\n",
    "\n",
    "def readfile(filename):\n",
    "    file = open(filename, 'r')\n",
    "    message = file.read()\n",
    "    file.close()\n",
    "    return message\n",
    "\n",
    "ascii = np.fromstring(readfile('lab2-Plaintext.txt'), dtype=np.uint8)\n",
    "ascii"
   ]
  },
  {
   "cell_type": "code",
   "execution_count": 10,
   "outputs": [
    {
     "data": {
      "text/plain": "'2002 A.M. TURING AWARD. RSA, an acronym for Rivest, Shamir and Adleman, uses algorithmic number theory to provide an efficient realization of a public-key cryptosystem, a concept first envisioned theoretically by Whitfield Diffie, Martin Hellman and Ralph Merkle. RSA is now the most widely used encryption method, with applications throughout the Internet to secure on-line transactions. It has also inspired breakthrough work in both theoretical computer science and mathematics.'"
     },
     "execution_count": 10,
     "metadata": {},
     "output_type": "execute_result"
    }
   ],
   "source": [
    "str = ''\n",
    "for ch in ascii:\n",
    "    str += chr(ch)\n",
    "str"
   ],
   "metadata": {
    "collapsed": false,
    "ExecuteTime": {
     "end_time": "2023-10-11T07:14:58.843795100Z",
     "start_time": "2023-10-11T07:14:58.835987300Z"
    }
   },
   "id": "13613f29b7f863b4"
  }
 ],
 "metadata": {
  "kernelspec": {
   "display_name": "Python 3",
   "language": "python",
   "name": "python3"
  },
  "language_info": {
   "codemirror_mode": {
    "name": "ipython",
    "version": 2
   },
   "file_extension": ".py",
   "mimetype": "text/x-python",
   "name": "python",
   "nbconvert_exporter": "python",
   "pygments_lexer": "ipython2",
   "version": "2.7.6"
  }
 },
 "nbformat": 4,
 "nbformat_minor": 5
}
